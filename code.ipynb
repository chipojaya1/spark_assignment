{
 "cells": [
  {
   "cell_type": "markdown",
   "id": "1b28ba6e-257b-400c-9041-804db399056b",
   "metadata": {
    "id": "1b28ba6e-257b-400c-9041-804db399056b"
   },
   "source": [
    "## Introduction"
   ]
  },
  {
   "cell_type": "markdown",
   "id": "cdffe832-9748-4c26-bff4-c9170f334742",
   "metadata": {
    "id": "cdffe832-9748-4c26-bff4-c9170f334742"
   },
   "source": [
    "In the realm of political campaigns and elections, financial contributions play a pivotal role in shaping outcomes and influencing voter behavior. This analysis focuses on the examination of contributions made to various political committees, utilizing a dataset that encapsulates individual donors, their occupations, and the amounts contributed. By employing SQL queries within a Spark DataFrame framework, we aim to uncover significant patterns and trends in the data, such as the identities of major contributors and the total funding received by different committees. Understanding these dynamics is crucial for grasping how financial resources are allocated in political contexts and their potential impact on electoral processes. This assignment seeks to provide insights into the sources of funding, the distribution of contributions among committees, and the implications of these findings for stakeholders involved in political campaigns."
   ]
  },
  {
   "cell_type": "markdown",
   "id": "82e1c907-8ba0-479c-899f-9a96e0e82d35",
   "metadata": {
    "id": "82e1c907-8ba0-479c-899f-9a96e0e82d35"
   },
   "source": [
    "**Create a new folder, set as working directory and navigate to the folder**"
   ]
  },
  {
   "cell_type": "code",
   "execution_count": 1,
   "id": "cf3535d5-15a2-46a6-91ca-dacc122d77df",
   "metadata": {
    "id": "cf3535d5-15a2-46a6-91ca-dacc122d77df",
    "outputId": "e273d944-d4e9-402f-8ce8-3a52d8aba432"
   },
   "outputs": [
    {
     "name": "stdout",
     "output_type": "stream",
     "text": [
      "mkdir: cannot create directory ‘Assignment_3’: File exists\n"
     ]
    }
   ],
   "source": [
    "!mkdir Assignment_3"
   ]
  },
  {
   "cell_type": "code",
   "execution_count": 2,
   "id": "0b680af7-9f12-4702-9fa8-a519b9a8f146",
   "metadata": {
    "id": "0b680af7-9f12-4702-9fa8-a519b9a8f146",
    "outputId": "f83f3f45-3ebe-4178-e148-59891827c6ea"
   },
   "outputs": [
    {
     "name": "stdout",
     "output_type": "stream",
     "text": [
      "/home/ubuntu/Assignment_3\n"
     ]
    }
   ],
   "source": [
    "%cd /home/ubuntu/Assignment_3"
   ]
  },
  {
   "cell_type": "code",
   "execution_count": 3,
   "id": "13630278-f026-43d6-b5d1-efdf679b5f51",
   "metadata": {
    "id": "13630278-f026-43d6-b5d1-efdf679b5f51",
    "outputId": "a068ccf4-1a48-4915-99cb-4a7216dfcbc4"
   },
   "outputs": [
    {
     "name": "stdout",
     "output_type": "stream",
     "text": [
      "/home/ubuntu/Assignment_3\n"
     ]
    }
   ],
   "source": [
    "!pwd"
   ]
  },
  {
   "cell_type": "markdown",
   "id": "2db07d51-b4b0-47dc-99cf-382a6cf11bed",
   "metadata": {
    "id": "2db07d51-b4b0-47dc-99cf-382a6cf11bed"
   },
   "source": [
    "## Setup the Spark Environment"
   ]
  },
  {
   "cell_type": "code",
   "execution_count": 4,
   "id": "b83c424d-4d5e-4830-ae23-ead719592971",
   "metadata": {
    "id": "b83c424d-4d5e-4830-ae23-ead719592971"
   },
   "outputs": [],
   "source": [
    "import findspark"
   ]
  },
  {
   "cell_type": "code",
   "execution_count": 5,
   "id": "d60364fc-5366-4777-9dab-3ebc05446d4b",
   "metadata": {
    "id": "d60364fc-5366-4777-9dab-3ebc05446d4b"
   },
   "outputs": [],
   "source": [
    "findspark.init()"
   ]
  },
  {
   "cell_type": "code",
   "execution_count": 6,
   "id": "cdcbef02-a758-4f2d-b69b-b170961012f0",
   "metadata": {
    "id": "cdcbef02-a758-4f2d-b69b-b170961012f0"
   },
   "outputs": [],
   "source": [
    "from pyspark.context import SparkContext\n",
    "from pyspark.sql import SparkSession"
   ]
  },
  {
   "cell_type": "code",
   "execution_count": 7,
   "id": "72a73e20-4dd3-4b5c-be2b-da49006499ca",
   "metadata": {
    "id": "72a73e20-4dd3-4b5c-be2b-da49006499ca",
    "outputId": "e2ab6352-cd11-4665-a17c-1bfe2b4a5d76"
   },
   "outputs": [
    {
     "name": "stderr",
     "output_type": "stream",
     "text": [
      "Setting default log level to \"WARN\".\n",
      "To adjust logging level use sc.setLogLevel(newLevel). For SparkR, use setLogLevel(newLevel).\n",
      "24/11/26 00:26:45 WARN NativeCodeLoader: Unable to load native-hadoop library for your platform... using builtin-java classes where applicable\n"
     ]
    }
   ],
   "source": [
    "# Create a SparkContext and SparkSession\n",
    "sc = SparkContext(appName='Contributions_Analysis')\n",
    "spark = SparkSession.builder.appName(\"Contributions Analysis\").getOrCreate()"
   ]
  },
  {
   "cell_type": "code",
   "execution_count": 8,
   "id": "6bfi9FoFjka4",
   "metadata": {
    "id": "6bfi9FoFjka4"
   },
   "outputs": [],
   "source": [
    "# Property used to format output tables better\n",
    "spark.conf.set(\"spark.sql.repl.eagerEval.enabled\", True)\n"
   ]
  },
  {
   "cell_type": "code",
   "execution_count": 9,
   "id": "cfb18bf0-1b93-455d-b332-e030e75df18f",
   "metadata": {
    "id": "cfb18bf0-1b93-455d-b332-e030e75df18f",
    "outputId": "10297efc-4937-4219-9d30-1d29d3be907b"
   },
   "outputs": [
    {
     "data": {
      "text/html": [
       "\n",
       "            <div>\n",
       "                <p><b>SparkSession - in-memory</b></p>\n",
       "                \n",
       "        <div>\n",
       "            <p><b>SparkContext</b></p>\n",
       "\n",
       "            <p><a href=\"http://ip-172-31-90-107.ec2.internal:4040\">Spark UI</a></p>\n",
       "\n",
       "            <dl>\n",
       "              <dt>Version</dt>\n",
       "                <dd><code>v3.5.2</code></dd>\n",
       "              <dt>Master</dt>\n",
       "                <dd><code>local[*]</code></dd>\n",
       "              <dt>AppName</dt>\n",
       "                <dd><code>Contributions_Analysis</code></dd>\n",
       "            </dl>\n",
       "        </div>\n",
       "        \n",
       "            </div>\n",
       "        "
      ],
      "text/plain": [
       "<pyspark.sql.session.SparkSession at 0x7b1b4b543ec0>"
      ]
     },
     "execution_count": 9,
     "metadata": {},
     "output_type": "execute_result"
    }
   ],
   "source": [
    "spark"
   ]
  },
  {
   "cell_type": "markdown",
   "id": "3e9e69d4-79e7-451a-b073-5ce89534e957",
   "metadata": {
    "id": "3e9e69d4-79e7-451a-b073-5ce89534e957"
   },
   "source": [
    "To get started, we identify the data we want to work with, in this case one CSV file and two txt files."
   ]
  },
  {
   "cell_type": "markdown",
   "id": "2f9a9a82-9c13-4316-93cc-9975a80d0ed6",
   "metadata": {
    "id": "2f9a9a82-9c13-4316-93cc-9975a80d0ed6"
   },
   "source": [
    "## Data Processing"
   ]
  },
  {
   "cell_type": "markdown",
   "id": "75be383d-6046-41e5-a6a0-1cd96079f699",
   "metadata": {
    "id": "75be383d-6046-41e5-a6a0-1cd96079f699"
   },
   "source": [
    "**Preparing the data**"
   ]
  },
  {
   "cell_type": "markdown",
   "id": "fc0cd32d-467f-4638-9a3b-b27c1e3b31d2",
   "metadata": {
    "id": "fc0cd32d-467f-4638-9a3b-b27c1e3b31d2"
   },
   "source": [
    "To be done outside juptyter:\n",
    "1. Download bulk data from https://www.fec.gov/data/browse-data/?tab=bulk-data\n",
    "2. Extract files for the period from June to July, 2024\n",
    "3. Zip the files"
   ]
  },
  {
   "cell_type": "markdown",
   "id": "9a4eddf1-48e8-4377-ad3a-36bc59a514c4",
   "metadata": {
    "id": "9a4eddf1-48e8-4377-ad3a-36bc59a514c4"
   },
   "source": [
    "Upload the zipped file with June and July data from computer to jupyter in a folder named itcont_20240620_20240723.zip"
   ]
  },
  {
   "cell_type": "code",
   "execution_count": 10,
   "id": "6f59b808-8934-4859-b057-c12ff138e594",
   "metadata": {
    "id": "6f59b808-8934-4859-b057-c12ff138e594",
    "outputId": "fb4d87df-d91b-4e50-e0e9-090f723a4fb0"
   },
   "outputs": [
    {
     "name": "stdout",
     "output_type": "stream",
     "text": [
      "\n",
      "All files in wd before extracting data:\n",
      "202406.csv\t\t itcont_20240620_20240723.zip\n",
      "202407.csv\t\t itcont_2024_20240620_20240709.txt\n",
      "combined_data.csv\t itcont_2024_20240710_20240723.txt\n",
      "indiv_header_file.csv\t spark-warehouse\n",
      "indiv_header_file.csv.1\n"
     ]
    }
   ],
   "source": [
    "print(\"\\nAll files in wd before extracting data:\")\n",
    "!ls"
   ]
  },
  {
   "cell_type": "code",
   "execution_count": 11,
   "id": "bc08d2b8-83d7-43f8-b467-a139b5ec3f58",
   "metadata": {
    "id": "bc08d2b8-83d7-43f8-b467-a139b5ec3f58",
    "outputId": "33bf0569-0769-4db4-d7c1-8536c5d67d18"
   },
   "outputs": [
    {
     "name": "stdout",
     "output_type": "stream",
     "text": [
      "\n",
      "Extracting files:\n",
      "replace itcont_2024_20240620_20240709.txt? [y]es, [n]o, [A]ll, [N]one, [r]ename: "
     ]
    },
    {
     "name": "stderr",
     "output_type": "stream",
     "text": [
      "24/11/26 00:26:58 WARN GarbageCollectionMetrics: To enable non-built-in garbage collector(s) List(G1 Concurrent GC), users should configure it(them) to spark.eventLog.gcMetrics.youngGenerationGarbageCollectors or spark.eventLog.gcMetrics.oldGenerationGarbageCollectors\n"
     ]
    },
    {
     "name": "stdout",
     "output_type": "stream",
     "text": [
      "^C\n"
     ]
    }
   ],
   "source": [
    "print(\"\\nExtracting files:\")\n",
    "!unzip -q itcont_20240620_20240723.zip"
   ]
  },
  {
   "cell_type": "code",
   "execution_count": 12,
   "id": "994a2bad-371f-4f5d-b824-a1154c1811e7",
   "metadata": {
    "id": "994a2bad-371f-4f5d-b824-a1154c1811e7",
    "outputId": "b8d660b2-1f45-4fb3-fb62-efabf80477df"
   },
   "outputs": [
    {
     "name": "stdout",
     "output_type": "stream",
     "text": [
      "\n",
      "Checking files were extracted:\n",
      "-rw-rw-r-- 1 ubuntu ubuntu 134M Nov 24 13:36 itcont_20240620_20240723.zip\n",
      "-rw-rw-r-- 1 ubuntu ubuntu 348M Nov 19 11:27 itcont_2024_20240620_20240709.txt\n",
      "-rw-rw-r-- 1 ubuntu ubuntu 343M Nov 19 11:27 itcont_2024_20240710_20240723.txt\n"
     ]
    }
   ],
   "source": [
    "print(\"\\nChecking files were extracted:\")\n",
    "!ls -lh itcont*"
   ]
  },
  {
   "cell_type": "code",
   "execution_count": 13,
   "id": "5b5d280c-8901-484c-b224-6a900c1a8593",
   "metadata": {
    "id": "5b5d280c-8901-484c-b224-6a900c1a8593",
    "outputId": "80c2af3c-7a1a-4c47-da66-8a3b3888f644"
   },
   "outputs": [
    {
     "name": "stdout",
     "output_type": "stream",
     "text": [
      "\n",
      "Counting number of obbservatons in extracted files:\n",
      "  1944602 itcont_2024_20240620_20240709.txt\n",
      "  1902192 itcont_2024_20240710_20240723.txt\n",
      "  3846794 total\n"
     ]
    }
   ],
   "source": [
    "print(\"\\nCounting number of obbservatons in extracted files:\")\n",
    "!wc -l itcont_2024_20240620_20240709.txt itcont_2024_20240710_20240723.txt"
   ]
  },
  {
   "cell_type": "markdown",
   "id": "3a2a3e52-56ae-4ab4-8094-ba524111d6d6",
   "metadata": {
    "id": "3a2a3e52-56ae-4ab4-8094-ba524111d6d6"
   },
   "source": [
    "The DataFrame contains 3,846,794 records of individual contributions"
   ]
  },
  {
   "cell_type": "code",
   "execution_count": 14,
   "id": "ec724cfa-e7b3-45c8-abd1-b65d102909de",
   "metadata": {
    "id": "ec724cfa-e7b3-45c8-abd1-b65d102909de",
    "outputId": "00f8a400-577c-42bd-a3a8-0cfd20ea90f2"
   },
   "outputs": [
    {
     "name": "stdout",
     "output_type": "stream",
     "text": [
      "\n",
      "Converting the TXT pipe-delimited data into CSV:\n"
     ]
    }
   ],
   "source": [
    "print(\"\\nConverting the TXT pipe-delimited data into CSV:\")\n",
    "!csvformat -d \"|\" itcont_2024_20240620_20240709.txt > 202406.csv\n",
    "!csvformat -d \"|\" itcont_2024_20240710_20240723.txt > 202407.csv"
   ]
  },
  {
   "cell_type": "markdown",
   "id": "6bd5fe7b-91bc-48a9-a6ec-5551cf5d0f93",
   "metadata": {
    "id": "6bd5fe7b-91bc-48a9-a6ec-5551cf5d0f93"
   },
   "source": [
    "**Downloading the header**"
   ]
  },
  {
   "cell_type": "code",
   "execution_count": 15,
   "id": "f22354ac-5307-42ac-8828-43066c8c6bef",
   "metadata": {
    "id": "f22354ac-5307-42ac-8828-43066c8c6bef",
    "outputId": "d16b6f1c-ab3f-453a-e06d-ed22d37ab003"
   },
   "outputs": [
    {
     "name": "stdout",
     "output_type": "stream",
     "text": [
      "\n",
      "Downloading the header file:\n",
      "--2024-11-25 19:27:57--  https://www.fec.gov/files/bulk-downloads/data_dictionaries/indiv_header_file.csv\n",
      "Resolving www.fec.gov (www.fec.gov)... 3.162.125.66, 3.162.125.67, 3.162.125.119, ...\n",
      "Connecting to www.fec.gov (www.fec.gov)|3.162.125.66|:443... connected.\n",
      "HTTP request sent, awaiting response... 302 Moved Temporarily\n",
      "Location: https://cg-519a459a-0ea3-42c2-b7bc-fa1143481f74.s3-us-gov-west-1.amazonaws.com/bulk-downloads/data_dictionaries/indiv_header_file.csv [following]\n",
      "--2024-11-25 19:27:57--  https://cg-519a459a-0ea3-42c2-b7bc-fa1143481f74.s3-us-gov-west-1.amazonaws.com/bulk-downloads/data_dictionaries/indiv_header_file.csv\n",
      "Resolving cg-519a459a-0ea3-42c2-b7bc-fa1143481f74.s3-us-gov-west-1.amazonaws.com (cg-519a459a-0ea3-42c2-b7bc-fa1143481f74.s3-us-gov-west-1.amazonaws.com)... 108.175.48.196\n",
      "Connecting to cg-519a459a-0ea3-42c2-b7bc-fa1143481f74.s3-us-gov-west-1.amazonaws.com (cg-519a459a-0ea3-42c2-b7bc-fa1143481f74.s3-us-gov-west-1.amazonaws.com)|108.175.48.196|:443... connected.\n",
      "HTTP request sent, awaiting response... 200 OK\n",
      "Length: 204 [binary/octet-stream]\n",
      "Saving to: ‘indiv_header_file.csv.2’\n",
      "\n",
      "indiv_header_file.c 100%[===================>]     204  --.-KB/s    in 0s      \n",
      "\n",
      "2024-11-25 19:27:57 (10.5 MB/s) - ‘indiv_header_file.csv.2’ saved [204/204]\n",
      "\n"
     ]
    }
   ],
   "source": [
    "print(\"\\nDownloading the header file:\")\n",
    "!wget https://www.fec.gov/files/bulk-downloads/data_dictionaries/indiv_header_file.csv"
   ]
  },
  {
   "cell_type": "code",
   "execution_count": 16,
   "id": "d2eac9d7-9a74-4196-8c7c-fab84d67507f",
   "metadata": {
    "id": "d2eac9d7-9a74-4196-8c7c-fab84d67507f",
    "outputId": "d073f8f2-f218-4b59-a197-24bf9c84f151"
   },
   "outputs": [
    {
     "name": "stdout",
     "output_type": "stream",
     "text": [
      "\n",
      "Checking the column headers\n",
      "CMTE_ID,AMNDT_IND,RPT_TP,TRANSACTION_PGI,IMAGE_NUM,TRANSACTION_TP,ENTITY_TP,NAME,CITY,STATE,ZIP_CODE,EMPLOYER,OCCUPATION,TRANSACTION_DT,TRANSACTION_AMT,OTHER_ID,TRAN_ID,FILE_NUM,MEMO_CD,MEMO_TEXT,SUB_ID\n"
     ]
    }
   ],
   "source": [
    "print(\"\\nChecking the column headers\")\n",
    "!head -n 1 indiv_header_file.csv"
   ]
  },
  {
   "cell_type": "markdown",
   "id": "d7e2d3a6-fdce-4843-a43b-6f83cc68a619",
   "metadata": {
    "id": "d7e2d3a6-fdce-4843-a43b-6f83cc68a619"
   },
   "source": [
    "**Data Inpsection**"
   ]
  },
  {
   "cell_type": "code",
   "execution_count": 17,
   "id": "bdaefdd1-cf14-47ba-8733-ccd4ec804139",
   "metadata": {
    "id": "bdaefdd1-cf14-47ba-8733-ccd4ec804139",
    "outputId": "8c4b22ce-e611-4c96-b954-312449dd5339"
   },
   "outputs": [
    {
     "name": "stdout",
     "output_type": "stream",
     "text": [
      "  1: C00849273\n",
      "  2: T\n",
      "  3: TER\n",
      "  4: P2024\n",
      "  5: 202407159660924932\n",
      "  6: 22Y\n",
      "  7: IND\n",
      "  8: REPASS, JAMES\n",
      "  9: HILLSBORO\n",
      " 10: VA\n",
      " 11: 20132\n",
      " 12: \n",
      " 13: \n",
      " 14: 06202024\n",
      " 15: 400\n",
      " 16: \n",
      " 17: SB28A.5248\n",
      " 18: 1802122\n",
      " 19: \n",
      " 20: \n",
      " 21: 4071620241974571456\n"
     ]
    }
   ],
   "source": [
    "!csvcut -n 202406.csv"
   ]
  },
  {
   "cell_type": "code",
   "execution_count": 18,
   "id": "237ef2d9-0f72-470c-a511-cdd761da8552",
   "metadata": {
    "id": "237ef2d9-0f72-470c-a511-cdd761da8552",
    "outputId": "a0011125-08da-4d37-c104-c159ba1a02ee"
   },
   "outputs": [
    {
     "name": "stdout",
     "output_type": "stream",
     "text": [
      "  1: C00217471\n",
      "  2: N\n",
      "  3: M8\n",
      "  4: P\n",
      "  5: 202408079666110989\n",
      "  6: 15\n",
      "  7: IND\n",
      "  8: HOUGHTON, DENNIS J\n",
      "  9: VIRGINIA BEACH\n",
      " 10: VA\n",
      " 11: 234524607\n",
      " 12: MAERSK LINE, LTD\n",
      " 13: DIRECTOR\n",
      " 14: 07102024\n",
      " 15: 20\n",
      " 16: \n",
      " 17: SA11AI.14049\n",
      " 18: 1808452\n",
      " 19: \n",
      " 20: \n",
      " 21: 4081520242013125256\n"
     ]
    }
   ],
   "source": [
    "!csvcut -n 202407.csv"
   ]
  },
  {
   "cell_type": "code",
   "execution_count": 19,
   "id": "425f8d4c-c443-40e2-90f6-a9d37f47e26f",
   "metadata": {
    "id": "425f8d4c-c443-40e2-90f6-a9d37f47e26f",
    "outputId": "373290aa-0ad0-455b-9ba2-c6f5995e114b"
   },
   "outputs": [
    {
     "name": "stdout",
     "output_type": "stream",
     "text": [
      "\n",
      "Header Addition onto combined csv files:\n"
     ]
    }
   ],
   "source": [
    "print(\"\\nHeader Addition onto combined csv files:\")\n",
    "!cat indiv_header_file.csv 202406.csv 202407.csv > combined_data.csv"
   ]
  },
  {
   "cell_type": "code",
   "execution_count": 20,
   "id": "863b9a15-e01f-4844-9aeb-d85173cc0192",
   "metadata": {
    "id": "863b9a15-e01f-4844-9aeb-d85173cc0192",
    "outputId": "5e3abaaa-7eac-4132-ce91-a1f5e814eeec"
   },
   "outputs": [
    {
     "name": "stdout",
     "output_type": "stream",
     "text": [
      "\n",
      "Verifying number of lines in combined file \n",
      "3846795 combined_data.csv\n"
     ]
    }
   ],
   "source": [
    "print(\"\\nVerifying number of lines in combined file \")\n",
    "!wc -l combined_data.csv"
   ]
  },
  {
   "cell_type": "code",
   "execution_count": 21,
   "id": "162bcde5-e84d-4cc3-bf83-9ed47cd8390b",
   "metadata": {
    "id": "162bcde5-e84d-4cc3-bf83-9ed47cd8390b",
    "outputId": "dd1213e9-efd8-44e2-a8c2-5c0f5ff1ece5"
   },
   "outputs": [
    {
     "name": "stdout",
     "output_type": "stream",
     "text": [
      "\n",
      "Displaying the first 5 lines of the combined file to verify it was created successfully:\n",
      "| CMTE_ID   | AMNDT_IND | RPT_TP | TRANSACTION_PGI |               IMAGE_NUM | TRANSACTION_TP | ENTITY_TP | NAME                   | CITY       | STATE | ZIP_CODE | EMPLOYER       | OCCUPATION | TRANSACTION_DT | TRANSACTION_AMT | OTHER_ID | TRAN_ID         |  FILE_NUM | MEMO_CD | MEMO_TEXT |                    SUB_ID |\n",
      "| --------- | --------- | ------ | --------------- | ----------------------- | -------------- | --------- | ---------------------- | ---------- | ----- | -------- | -------------- | ---------- | -------------- | --------------- | -------- | --------------- | --------- | ------- | --------- | ------------------------- |\n",
      "| C00849273 | T         | TER    | P2024           | 202,407,159,660,924,932 | 22Y            | IND       | REPASS, JAMES          | HILLSBORO  | VA    |   20,132 |                |            |      6,202,024 |             400 |          | SB28A.5248      | 1,802,122 |         |           | 4,071,620,241,974,571,456 |\n",
      "| C00828541 | A         | M7     | P2024           | 202,408,159,666,207,641 | 15             | IND       | MANSFIELD, RISA        | COLUMBUS   | MS    |   39,705 | RETIRED        | RETIRED    |      6,202,024 |             125 |          | SA17A.121694463 | 1,810,271 |         |           | 4,081,620,242,013,476,924 |\n",
      "| C00828541 | A         | M7     | P2024           | 202,408,159,666,207,641 | 15             | IND       | MANTZOURANIS, VASILIKE | KENSINGTON | MD    |   20,895 | RETIRED        | RETIRED    |      6,202,024 |             150 |          | SA17A.121693527 | 1,810,271 |         |           | 4,081,620,242,013,476,925 |\n",
      "| C00828541 | A         | M7     | P2024           | 202,408,159,666,209,186 | 15             | IND       | SCOTT, HORACE EDWARD   | HANCEVILLE | AL    |   35,077 | HORACE F SEPTT | RETAIR     |      6,202,024 |             100 |          | SA17A.121694767 | 1,810,271 |         |           | 4,081,620,242,013,481,558 |\n"
     ]
    }
   ],
   "source": [
    "print(\"\\nDisplaying the first 5 lines of the combined file to verify it was created successfully:\")\n",
    "!head -n 5 combined_data.csv | csvlook"
   ]
  },
  {
   "cell_type": "code",
   "execution_count": 22,
   "id": "c340e6ad-7f5d-4c5b-bf87-175f2d7b4651",
   "metadata": {
    "id": "c340e6ad-7f5d-4c5b-bf87-175f2d7b4651",
    "outputId": "74a6593d-dace-4dcf-d6b1-b839fa905faa"
   },
   "outputs": [
    {
     "name": "stdout",
     "output_type": "stream",
     "text": [
      "\n",
      "Looking at a sample to detremine domain and range:\n",
      "  1. \"CMTE_ID\"\n",
      "\n",
      "\tType of data:          Text\n",
      "\tContains null values:  False\n",
      "\tNon-null values:       999\n",
      "\tUnique values:         2\n",
      "\tLongest value:         9 characters\n",
      "\tMost common values:    C00828541 (998x)\n",
      "\t                       C00849273 (1x)\n",
      "\n",
      "  2. \"AMNDT_IND\"\n",
      "\n",
      "\tType of data:          Text\n",
      "\tContains null values:  False\n",
      "\tNon-null values:       999\n",
      "\tUnique values:         2\n",
      "\tLongest value:         1 characters\n",
      "\tMost common values:    A (998x)\n",
      "\t                       T (1x)\n",
      "\n",
      "  3. \"RPT_TP\"\n",
      "\n",
      "\tType of data:          Text\n",
      "\tContains null values:  False\n",
      "\tNon-null values:       999\n",
      "\tUnique values:         2\n",
      "\tLongest value:         3 characters\n",
      "\tMost common values:    M7 (998x)\n",
      "\t                       TER (1x)\n",
      "\n",
      "  4. \"TRANSACTION_PGI\"\n",
      "\n",
      "\tType of data:          Text\n",
      "\tContains null values:  False\n",
      "\tNon-null values:       999\n",
      "\tUnique values:         2\n",
      "\tLongest value:         5 characters\n",
      "\tMost common values:    P2024 (988x)\n",
      "\t                       G2024 (11x)\n",
      "\n",
      "  5. \"IMAGE_NUM\"\n",
      "\n",
      "\tType of data:          Number\n",
      "\tContains null values:  False\n",
      "\tNon-null values:       999\n",
      "\tUnique values:         893\n",
      "\tSmallest value:        202407159660924928\n",
      "\tLargest value:         202408159666210432\n",
      "\tSum:                   202205750506535256064\n",
      "\tMean:                  202408158665200448\n",
      "\tMedian:                202408159666206944\n",
      "\tStDev:                 31638766967.198\n",
      "\tMost decimal places:   0\n",
      "\tMost common values:    202408159666202752 (3x)\n",
      "\t                       202408159666202720 (3x)\n",
      "\t                       202408159666202720 (3x)\n",
      "\t                       202408159666202752 (3x)\n",
      "\t                       202408159666202848 (3x)\n",
      "\n",
      "  6. \"TRANSACTION_TP\"\n",
      "\n",
      "\tType of data:          Text\n",
      "\tContains null values:  False\n",
      "\tNon-null values:       999\n",
      "\tUnique values:         3\n",
      "\tLongest value:         3 characters\n",
      "\tMost common values:    15 (871x)\n",
      "\t                       15E (127x)\n",
      "\t                       22Y (1x)\n",
      "\n",
      "  7. \"ENTITY_TP\"\n",
      "\n",
      "\tType of data:          Text\n",
      "\tContains null values:  False\n",
      "\tNon-null values:       999\n",
      "\tUnique values:         1\n",
      "\tLongest value:         3 characters\n",
      "\tMost common values:    IND (999x)\n",
      "\n",
      "  8. \"NAME\"\n",
      "\n",
      "\tType of data:          Text\n",
      "\tContains null values:  False\n",
      "\tNon-null values:       999\n",
      "\tUnique values:         906\n",
      "\tLongest value:         28 characters\n",
      "\tMost common values:    HENDERSON, GRACE (10x)\n",
      "\t                       NEWHOUSE, BRENDA (9x)\n",
      "\t                       FORD, BEVERLY (8x)\n",
      "\t                       UDELL, SUSAN A (7x)\n",
      "\t                       STRICKLER, DALE (7x)\n",
      "\n",
      "  9. \"CITY\"\n",
      "\n",
      "\tType of data:          Text\n",
      "\tContains null values:  False\n",
      "\tNon-null values:       999\n",
      "\tUnique values:         750\n",
      "\tLongest value:         20 characters\n",
      "\tMost common values:    JACKSON (10x)\n",
      "\t                       BOUNTIFUL (10x)\n",
      "\t                       JACKSONVILLE (9x)\n",
      "\t                       MARIETTA (9x)\n",
      "\t                       SPRING HILL (8x)\n",
      "\n",
      " 10. \"STATE\"\n",
      "\n",
      "\tType of data:          Text\n",
      "\tContains null values:  False\n",
      "\tNon-null values:       999\n",
      "\tUnique values:         50\n",
      "\tLongest value:         2 characters\n",
      "\tMost common values:    FL (92x)\n",
      "\t                       CA (82x)\n",
      "\t                       TX (68x)\n",
      "\t                       OH (52x)\n",
      "\t                       NY (44x)\n",
      "\n",
      " 11. \"ZIP_CODE\"\n",
      "\n",
      "\tType of data:          Number\n",
      "\tContains null values:  False\n",
      "\tNon-null values:       999\n",
      "\tUnique values:         858\n",
      "\tSmallest value:        1073\n",
      "\tLargest value:         99623\n",
      "\tSum:                   50957376\n",
      "\tMean:                  51008.384\n",
      "\tMedian:                47724\n",
      "\tStDev:                 27791.357\n",
      "\tMost decimal places:   0\n",
      "\tMost common values:    84010 (10x)\n",
      "\t                       39211 (9x)\n",
      "\t                       30067 (8x)\n",
      "\t                       90638 (7x)\n",
      "\t                       34607 (7x)\n",
      "\n",
      " 12. \"EMPLOYER\"\n",
      "\n",
      "\tType of data:          Text\n",
      "\tContains null values:  True (excluded from calculations)\n",
      "\tNon-null values:       838\n",
      "\tUnique values:         127\n",
      "\tLongest value:         35 characters\n",
      "\tMost common values:    RETIRED (648x)\n",
      "\t                       None (161x)\n",
      "\t                       ENTREPRENEUR (21x)\n",
      "\t                       SELF-EMPLOYED (21x)\n",
      "\t                       HOMEMAKER (16x)\n",
      "\n",
      " 13. \"OCCUPATION\"\n",
      "\n",
      "\tType of data:          Text\n",
      "\tContains null values:  True (excluded from calculations)\n",
      "\tNon-null values:       853\n",
      "\tUnique values:         108\n",
      "\tLongest value:         30 characters\n",
      "\tMost common values:    RETIRED (648x)\n",
      "\t                       None (146x)\n",
      "\t                       ENTREPRENEUR (21x)\n",
      "\t                       SELF-EMPLOYED (20x)\n",
      "\t                       HOMEMAKER (16x)\n",
      "\n",
      " 14. \"TRANSACTION_DT\"\n",
      "\n",
      "\tType of data:          Number\n",
      "\tContains null values:  False\n",
      "\tNon-null values:       999\n",
      "\tUnique values:         1\n",
      "\tSmallest value:        6202024\n",
      "\tLargest value:         6202024\n",
      "\tSum:                   6195821976\n",
      "\tMean:                  6202024\n",
      "\tMedian:                6202024\n",
      "\tStDev:                 0\n",
      "\tMost decimal places:   0\n",
      "\tMost common values:    6202024 (999x)\n",
      "\n",
      " 15. \"TRANSACTION_AMT\"\n",
      "\n",
      "\tType of data:          Number\n",
      "\tContains null values:  False\n",
      "\tNon-null values:       999\n",
      "\tUnique values:         117\n",
      "\tSmallest value:        -2700\n",
      "\tLargest value:         3300\n",
      "\tSum:                   214534\n",
      "\tMean:                  214.749\n",
      "\tMedian:                100\n",
      "\tStDev:                 335.767\n",
      "\tMost decimal places:   0\n",
      "\tMost common values:    100 (206x)\n",
      "\t                       500 (89x)\n",
      "\t                       50 (85x)\n",
      "\t                       250 (70x)\n",
      "\t                       200 (65x)\n",
      "\n",
      " 16. \"OTHER_ID\"\n",
      "\n",
      "\tType of data:          Text\n",
      "\tContains null values:  True (excluded from calculations)\n",
      "\tNon-null values:       127\n",
      "\tUnique values:         2\n",
      "\tLongest value:         9 characters\n",
      "\tMost common values:    None (872x)\n",
      "\t                       C00694323 (127x)\n",
      "\n",
      " 17. \"TRAN_ID\"\n",
      "\n",
      "\tType of data:          Text\n",
      "\tContains null values:  False\n",
      "\tNon-null values:       999\n",
      "\tUnique values:         999\n",
      "\tLongest value:         17 characters\n",
      "\tMost common values:    SB28A.5248 (1x)\n",
      "\t                       SA17A.121694463 (1x)\n",
      "\t                       SA17A.121693527 (1x)\n",
      "\t                       SA17A.121694767 (1x)\n",
      "\t                       SA17A.121694255 (1x)\n",
      "\n",
      " 18. \"FILE_NUM\"\n",
      "\n",
      "\tType of data:          Number\n",
      "\tContains null values:  False\n",
      "\tNon-null values:       999\n",
      "\tUnique values:         2\n",
      "\tSmallest value:        1802122\n",
      "\tLargest value:         1810271\n",
      "\tSum:                   1808452580\n",
      "\tMean:                  1810262.843\n",
      "\tMedian:                1810271\n",
      "\tStDev:                 257.823\n",
      "\tMost decimal places:   0\n",
      "\tMost common values:    1810271 (998x)\n",
      "\t                       1802122 (1x)\n",
      "\n",
      " 19. \"MEMO_CD\"\n",
      "\n",
      "\tType of data:          Text\n",
      "\tContains null values:  True (excluded from calculations)\n",
      "\tNon-null values:       22\n",
      "\tUnique values:         2\n",
      "\tLongest value:         1 characters\n",
      "\tMost common values:    None (977x)\n",
      "\t                       X (22x)\n",
      "\n",
      " 20. \"MEMO_TEXT\"\n",
      "\n",
      "\tType of data:          Text\n",
      "\tContains null values:  True (excluded from calculations)\n",
      "\tNon-null values:       4\n",
      "\tUnique values:         3\n",
      "\tLongest value:         17 characters\n",
      "\tMost common values:    None (995x)\n",
      "\t                       CHARGEBACK (2x)\n",
      "\t                       SEE REDESIGNATION (2x)\n",
      "\n",
      " 21. \"SUB_ID\"\n",
      "\n",
      "\tType of data:          Number\n",
      "\tContains null values:  False\n",
      "\tNon-null values:       999\n",
      "\tUnique values:         999\n",
      "\tSmallest value:        4071620241974571520\n",
      "\tLargest value:         4081620242013485056\n",
      "\tSum:                   4077528621771421908992\n",
      "\tMean:                  4081610232003425280\n",
      "\tMedian:                4081620242013474816\n",
      "\tStDev:                 316385999814994.688\n",
      "\tMost decimal places:   0\n",
      "\tMost common values:    4071620241974571520 (1x)\n",
      "\t                       4081620242013476864 (1x)\n",
      "\t                       4081620242013476864 (1x)\n",
      "\t                       4081620242013481472 (1x)\n",
      "\t                       4081620242013468672 (1x)\n",
      "\n",
      "Row count: 999\n"
     ]
    }
   ],
   "source": [
    "print(\"\\nLooking at a sample to detremine domain and range:\")\n",
    "!head -n 1000 combined_data.csv | csvstat"
   ]
  },
  {
   "cell_type": "code",
   "execution_count": 23,
   "id": "209adff6-0900-4771-ac81-35d338947393",
   "metadata": {
    "id": "209adff6-0900-4771-ac81-35d338947393",
    "outputId": "ae36590a-e1d3-444c-b031-dbd1e7b7141f"
   },
   "outputs": [
    {
     "name": "stdout",
     "output_type": "stream",
     "text": [
      "head: cannot open 'combined_df.csv' for reading: No such file or directory\n"
     ]
    }
   ],
   "source": [
    "!head combined_df.csv | qsv table"
   ]
  },
  {
   "cell_type": "code",
   "execution_count": null,
   "id": "liIA7jiyifQ_",
   "metadata": {
    "id": "liIA7jiyifQ_"
   },
   "outputs": [],
   "source": []
  },
  {
   "cell_type": "markdown",
   "id": "b7b0403c-f13e-4f0a-9956-f8c8f5fcb9a0",
   "metadata": {
    "id": "qx5U_GwTlJPV"
   },
   "source": [
    "## Creating Dataframes for Spark ##"
   ]
  },
  {
   "cell_type": "code",
   "execution_count": 25,
   "id": "KtkNXbYulOGX",
   "metadata": {
    "id": "KtkNXbYulOGX"
   },
   "outputs": [],
   "source": [
    "# Load the Header CSV File\n",
    "header_df = spark.read.option(\"header\", \"false\").csv(\"indiv_header_file.csv\")\n",
    "header = header_df.collect()[0]  # The header is in the first row\n",
    "header_list = [str(col) for col in header]  # Convert each column name to a string"
   ]
  },
  {
   "cell_type": "code",
   "execution_count": 26,
   "id": "BYLzBb4ElN2x",
   "metadata": {
    "id": "BYLzBb4ElN2x"
   },
   "outputs": [],
   "source": [
    "# Load the Combined Data using spark.read.option()\n",
    "#data = spark.read.option(\"header\", \"false\").csv('combined_data.csv')\n",
    "# Load the Combined Data using spark.read.option()\n",
    "df1 = spark.read.option(\"header\", \"false\").csv('202406.csv')\n",
    "df2 = spark.read.option(\"header\", \"false\").csv('202407.csv')"
   ]
  },
  {
   "cell_type": "code",
   "execution_count": 27,
   "id": "rsluzYG9lwrN",
   "metadata": {
    "id": "rsluzYG9lwrN"
   },
   "outputs": [],
   "source": [
    "# Combine DataFrames Using Union\n",
    "combined_df = df1.union(df2)"
   ]
  },
  {
   "cell_type": "code",
   "execution_count": 28,
   "id": "fTRHSTuElwko",
   "metadata": {
    "id": "fTRHSTuElwko"
   },
   "outputs": [
    {
     "name": "stdout",
     "output_type": "stream",
     "text": [
      "Number of columns in combined_df: 21\n",
      "Number of columns in header_list: 21\n"
     ]
    }
   ],
   "source": [
    "# Check the number of columns in combined_df and header_list\n",
    "print(f\"Number of columns in combined_df: {len(combined_df.columns)}\")\n",
    "print(f\"Number of columns in header_list: {len(header_list)}\")"
   ]
  },
  {
   "cell_type": "code",
   "execution_count": 29,
   "id": "hmNaBt2SmHyj",
   "metadata": {
    "id": "hmNaBt2SmHyj"
   },
   "outputs": [],
   "source": [
    "# Apply the Header to the Combined DataFrame\n",
    "combined_df = combined_df.toDF(*header_list)"
   ]
  },
  {
   "cell_type": "code",
   "execution_count": 30,
   "id": "EzthBrZMmHoe",
   "metadata": {
    "id": "EzthBrZMmHoe"
   },
   "outputs": [
    {
     "name": "stdout",
     "output_type": "stream",
     "text": [
      "+---------+---------+------+---------------+------------------+--------------+---------+--------------------+----------+-----+--------+--------------+----------+--------------+---------------+--------+---------------+--------+-------+---------+-------------------+\n",
      "|  CMTE_ID|AMNDT_IND|RPT_TP|TRANSACTION_PGI|         IMAGE_NUM|TRANSACTION_TP|ENTITY_TP|                NAME|      CITY|STATE|ZIP_CODE|      EMPLOYER|OCCUPATION|TRANSACTION_DT|TRANSACTION_AMT|OTHER_ID|        TRAN_ID|FILE_NUM|MEMO_CD|MEMO_TEXT|             SUB_ID|\n",
      "+---------+---------+------+---------------+------------------+--------------+---------+--------------------+----------+-----+--------+--------------+----------+--------------+---------------+--------+---------------+--------+-------+---------+-------------------+\n",
      "|C00849273|        T|   TER|          P2024|202407159660924932|           22Y|      IND|       REPASS, JAMES| HILLSBORO|   VA|   20132|          NULL|      NULL|      06202024|            400|    NULL|     SB28A.5248| 1802122|   NULL|     NULL|4071620241974571456|\n",
      "|C00828541|        A|    M7|          P2024|202408159666207641|            15|      IND|     MANSFIELD, RISA|  COLUMBUS|   MS|   39705|       RETIRED|   RETIRED|      06202024|            125|    NULL|SA17A.121694463| 1810271|   NULL|     NULL|4081620242013476924|\n",
      "|C00828541|        A|    M7|          P2024|202408159666207641|            15|      IND|MANTZOURANIS, VAS...|KENSINGTON|   MD|   20895|       RETIRED|   RETIRED|      06202024|            150|    NULL|SA17A.121693527| 1810271|   NULL|     NULL|4081620242013476925|\n",
      "|C00828541|        A|    M7|          P2024|202408159666209186|            15|      IND|SCOTT, HORACE EDWARD|HANCEVILLE|   AL|   35077|HORACE F SEPTT|    RETAIR|      06202024|            100|    NULL|SA17A.121694767| 1810271|   NULL|     NULL|4081620242013481558|\n",
      "|C00828541|        A|    M7|          P2024|202408159666204850|            15|      IND|          BRUSA, S E|      LODI|   CA|   95242|     HOMEMAKER| HOMEMAKER|      06202024|            100|    NULL|SA17A.121694255| 1810271|   NULL|     NULL|4081620242013468550|\n",
      "+---------+---------+------+---------------+------------------+--------------+---------+--------------------+----------+-----+--------+--------------+----------+--------------+---------------+--------+---------------+--------+-------+---------+-------------------+\n",
      "only showing top 5 rows\n",
      "\n"
     ]
    }
   ],
   "source": [
    "# Show 5 observations\n",
    "combined_df.show(5)"
   ]
  },
  {
   "cell_type": "code",
   "execution_count": 31,
   "id": "Sf0bhwE3lwa6",
   "metadata": {
    "id": "Sf0bhwE3lwa6"
   },
   "outputs": [
    {
     "name": "stderr",
     "output_type": "stream",
     "text": [
      "                                                                                \r"
     ]
    },
    {
     "name": "stdout",
     "output_type": "stream",
     "text": [
      "Total number of records in combined DataFrame: 3846794\n"
     ]
    },
    {
     "name": "stderr",
     "output_type": "stream",
     "text": [
      "[Stage 8:=======================================>                   (4 + 2) / 6]\r"
     ]
    },
    {
     "name": "stdout",
     "output_type": "stream",
     "text": [
      "+---------------+\n",
      "|TRANSACTION_AMT|\n",
      "+---------------+\n",
      "|             -4|\n",
      "|            675|\n",
      "|            691|\n",
      "|            296|\n",
      "|           3210|\n",
      "|           1436|\n",
      "|          -2024|\n",
      "|           -757|\n",
      "|          91421|\n",
      "|            467|\n",
      "|            125|\n",
      "|            800|\n",
      "|            944|\n",
      "|          66000|\n",
      "|          -3200|\n",
      "|            -30|\n",
      "|           2700|\n",
      "|           3200|\n",
      "|            666|\n",
      "|           -348|\n",
      "+---------------+\n",
      "only showing top 20 rows\n",
      "\n"
     ]
    },
    {
     "name": "stderr",
     "output_type": "stream",
     "text": [
      "                                                                                \r"
     ]
    }
   ],
   "source": [
    "# Perform Initial Data Exploration\n",
    "print(f\"Total number of records in combined DataFrame: {combined_df.count()}\")\n",
    "combined_df.select('TRANSACTION_AMT').distinct().show()"
   ]
  },
  {
   "cell_type": "markdown",
   "id": "17ed2b5c-a73c-42ef-a3b4-15ce40e5d0c8",
   "metadata": {
    "id": "17ed2b5c-a73c-42ef-a3b4-15ce40e5d0c8"
   },
   "source": [
    "## Data Analysis Part 1: RDD Processing"
   ]
  },
  {
   "cell_type": "code",
   "execution_count": 32,
   "id": "8ad91b69-37dd-40df-ac33-439f7cfd792a",
   "metadata": {
    "colab": {
     "base_uri": "https://localhost:8080/",
     "height": 176
    },
    "id": "8ad91b69-37dd-40df-ac33-439f7cfd792a",
    "outputId": "30af93a2-621f-4c59-ff6c-fed370ab6a60"
   },
   "outputs": [
    {
     "name": "stdout",
     "output_type": "stream",
     "text": [
      "loading data into a Spark RDD:\n"
     ]
    }
   ],
   "source": [
    "print(\"loading data into a Spark RDD:\")\n",
    "rdd = combined_df.rdd"
   ]
  },
  {
   "cell_type": "code",
   "execution_count": 35,
   "id": "2b9c8c40-0ce7-45b7-a7c0-20acd8f719f4",
   "metadata": {
    "colab": {
     "base_uri": "https://localhost:8080/",
     "height": 124
    },
    "id": "2b9c8c40-0ce7-45b7-a7c0-20acd8f719f4",
    "outputId": "b2b0b1ec-6256-422c-f75b-5e381ace4c80"
   },
   "outputs": [
    {
     "name": "stderr",
     "output_type": "stream",
     "text": [
      "[Stage 11:================================================>         (5 + 1) / 6]\r"
     ]
    },
    {
     "name": "stdout",
     "output_type": "stream",
     "text": [
      "CPU times: user 25.6 ms, sys: 8.74 ms, total: 34.3 ms\n",
      "Wall time: 1min 18s\n"
     ]
    },
    {
     "name": "stderr",
     "output_type": "stream",
     "text": [
      "                                                                                \r"
     ]
    },
    {
     "data": {
      "text/plain": [
       "3846794"
      ]
     },
     "execution_count": 35,
     "metadata": {},
     "output_type": "execute_result"
    }
   ],
   "source": [
    "%time rdd.count()"
   ]
  },
  {
   "cell_type": "code",
   "execution_count": 36,
   "id": "4e354625-d0ae-4159-9901-d2a204c8f370",
   "metadata": {
    "colab": {
     "base_uri": "https://localhost:8080/",
     "height": 193
    },
    "id": "4e354625-d0ae-4159-9901-d2a204c8f370",
    "outputId": "a48f44a4-33a7-4fce-dfea-c2ca17e4b094"
   },
   "outputs": [
    {
     "name": "stdout",
     "output_type": "stream",
     "text": [
      "Checking header in RDD:\n"
     ]
    },
    {
     "data": {
      "text/plain": [
       "Row(CMTE_ID='C00849273', AMNDT_IND='T', RPT_TP='TER', TRANSACTION_PGI='P2024', IMAGE_NUM='202407159660924932', TRANSACTION_TP='22Y', ENTITY_TP='IND', NAME='REPASS, JAMES', CITY='HILLSBORO', STATE='VA', ZIP_CODE='20132', EMPLOYER=None, OCCUPATION=None, TRANSACTION_DT='06202024', TRANSACTION_AMT='400', OTHER_ID=None, TRAN_ID='SB28A.5248', FILE_NUM='1802122', MEMO_CD=None, MEMO_TEXT=None, SUB_ID='4071620241974571456')"
      ]
     },
     "execution_count": 36,
     "metadata": {},
     "output_type": "execute_result"
    }
   ],
   "source": [
    "print(\"Checking header in RDD:\")\n",
    "header = rdd.first()\n",
    "header"
   ]
  },
  {
   "cell_type": "code",
   "execution_count": 37,
   "id": "MN8K2-9VhhYd",
   "metadata": {
    "id": "MN8K2-9VhhYd"
   },
   "outputs": [
    {
     "name": "stdout",
     "output_type": "stream",
     "text": [
      "Sample RDD data:\n",
      "[Row(CMTE_ID='C00849273', AMNDT_IND='T', RPT_TP='TER', TRANSACTION_PGI='P2024', IMAGE_NUM='202407159660924932', TRANSACTION_TP='22Y', ENTITY_TP='IND', NAME='REPASS, JAMES', CITY='HILLSBORO', STATE='VA', ZIP_CODE='20132', EMPLOYER=None, OCCUPATION=None, TRANSACTION_DT='06202024', TRANSACTION_AMT='400', OTHER_ID=None, TRAN_ID='SB28A.5248', FILE_NUM='1802122', MEMO_CD=None, MEMO_TEXT=None, SUB_ID='4071620241974571456'), Row(CMTE_ID='C00828541', AMNDT_IND='A', RPT_TP='M7', TRANSACTION_PGI='P2024', IMAGE_NUM='202408159666207641', TRANSACTION_TP='15', ENTITY_TP='IND', NAME='MANSFIELD, RISA', CITY='COLUMBUS', STATE='MS', ZIP_CODE='39705', EMPLOYER='RETIRED', OCCUPATION='RETIRED', TRANSACTION_DT='06202024', TRANSACTION_AMT='125', OTHER_ID=None, TRAN_ID='SA17A.121694463', FILE_NUM='1810271', MEMO_CD=None, MEMO_TEXT=None, SUB_ID='4081620242013476924'), Row(CMTE_ID='C00828541', AMNDT_IND='A', RPT_TP='M7', TRANSACTION_PGI='P2024', IMAGE_NUM='202408159666207641', TRANSACTION_TP='15', ENTITY_TP='IND', NAME='MANTZOURANIS, VASILIKE', CITY='KENSINGTON', STATE='MD', ZIP_CODE='20895', EMPLOYER='RETIRED', OCCUPATION='RETIRED', TRANSACTION_DT='06202024', TRANSACTION_AMT='150', OTHER_ID=None, TRAN_ID='SA17A.121693527', FILE_NUM='1810271', MEMO_CD=None, MEMO_TEXT=None, SUB_ID='4081620242013476925'), Row(CMTE_ID='C00828541', AMNDT_IND='A', RPT_TP='M7', TRANSACTION_PGI='P2024', IMAGE_NUM='202408159666209186', TRANSACTION_TP='15', ENTITY_TP='IND', NAME='SCOTT, HORACE EDWARD', CITY='HANCEVILLE', STATE='AL', ZIP_CODE='35077', EMPLOYER='HORACE F SEPTT', OCCUPATION='RETAIR', TRANSACTION_DT='06202024', TRANSACTION_AMT='100', OTHER_ID=None, TRAN_ID='SA17A.121694767', FILE_NUM='1810271', MEMO_CD=None, MEMO_TEXT=None, SUB_ID='4081620242013481558'), Row(CMTE_ID='C00828541', AMNDT_IND='A', RPT_TP='M7', TRANSACTION_PGI='P2024', IMAGE_NUM='202408159666204850', TRANSACTION_TP='15', ENTITY_TP='IND', NAME='BRUSA, S E', CITY='LODI', STATE='CA', ZIP_CODE='95242', EMPLOYER='HOMEMAKER', OCCUPATION='HOMEMAKER', TRANSACTION_DT='06202024', TRANSACTION_AMT='100', OTHER_ID=None, TRAN_ID='SA17A.121694255', FILE_NUM='1810271', MEMO_CD=None, MEMO_TEXT=None, SUB_ID='4081620242013468550')]\n"
     ]
    }
   ],
   "source": [
    "# Inspect the RDD structure\n",
    "print(\"Sample RDD data:\")\n",
    "print(rdd.take(5))"
   ]
  },
  {
   "cell_type": "markdown",
   "id": "ddb5d64d-62f5-4c3e-89f5-54f9c89e24d4",
   "metadata": {
    "id": "ddb5d64d-62f5-4c3e-89f5-54f9c89e24d4"
   },
   "source": [
    "looks like all data was loaded successfully"
   ]
  },
  {
   "cell_type": "code",
   "execution_count": 38,
   "id": "b7bc0175-95b8-433e-844c-4c94c4978ae2",
   "metadata": {
    "id": "b7bc0175-95b8-433e-844c-4c94c4978ae2"
   },
   "outputs": [],
   "source": [
    "from operator import add"
   ]
  },
  {
   "cell_type": "code",
   "execution_count": 39,
   "id": "8b88e52c-254e-4f68-84a1-38764b299285",
   "metadata": {
    "id": "8b88e52c-254e-4f68-84a1-38764b299285"
   },
   "outputs": [],
   "source": [
    "# Handle potential invalid or missing TRANSACTION_AMT\n",
    "def safe_float(value):\n",
    "    try:\n",
    "        return float(value)\n",
    "    except (TypeError, ValueError):\n",
    "        return 0"
   ]
  },
  {
   "cell_type": "markdown",
   "id": "ddb48234-2047-42db-89ea-ac918a0c19dc",
   "metadata": {
    "id": "ddb48234-2047-42db-89ea-ac918a0c19dc"
   },
   "source": [
    "**The top 10 states in terms of the total count of contributions**"
   ]
  },
  {
   "cell_type": "code",
   "execution_count": 40,
   "id": "4bb50a3d-204c-4d6b-918c-fb9081d4035c",
   "metadata": {
    "id": "4bb50a3d-204c-4d6b-918c-fb9081d4035c"
   },
   "outputs": [
    {
     "name": "stderr",
     "output_type": "stream",
     "text": [
      "                                                                                \r"
     ]
    }
   ],
   "source": [
    "# 1. Top 10 States by Contribution Count\n",
    "top10_states_count = (\n",
    "    rdd\n",
    "    .map(lambda row: (row.STATE, 1))  # Map STATE as key and count each contribution\n",
    "    .reduceByKey(add)  # Sum counts per state\n",
    "    .takeOrdered(10, key=lambda pair: -pair[1])  # Take top 10 states by contribution count\n",
    ")"
   ]
  },
  {
   "cell_type": "code",
   "execution_count": 41,
   "id": "27fb8907-a071-41db-81d9-79e560dc3cc1",
   "metadata": {
    "id": "27fb8907-a071-41db-81d9-79e560dc3cc1"
   },
   "outputs": [
    {
     "name": "stdout",
     "output_type": "stream",
     "text": [
      "\n",
      "Top 10 States by Contribution Count:\n",
      "CA: 566727\n",
      "TX: 324357\n",
      "FL: 279718\n",
      "NY: 226242\n",
      "WA: 140883\n",
      "PA: 130394\n",
      "VA: 125630\n",
      "IL: 125190\n",
      "AZ: 115101\n",
      "OH: 109589\n"
     ]
    }
   ],
   "source": [
    "# Print results\n",
    "print(\"\\nTop 10 States by Contribution Count:\")\n",
    "for state, count in top10_states_count:\n",
    "    print(f\"{state}: {count}\")"
   ]
  },
  {
   "cell_type": "markdown",
   "id": "60319474-b8ef-43cf-841b-3dc9333ebeb3",
   "metadata": {
    "id": "60319474-b8ef-43cf-841b-3dc9333ebeb3"
   },
   "source": [
    "**Intepretation**\n",
    "\n",
    "California (CA) has the highest number of contributions, with 566,727 contributions recorded. This indicates a strong engagement or activity in political contributions within the state.\n",
    "\n",
    "Texas (TX) follows with 324,357 contributions, which is significantly lower than California but still represents a substantial amount of political activity.\n",
    "\n",
    "Other states like Florida (FL) and New York (NY) also show high levels of contributions, indicating that these states are major players in political financing.\n",
    "\n",
    "The overall trend suggests that states with larger populations or more active political environments tend to have higher contribution counts."
   ]
  },
  {
   "cell_type": "markdown",
   "id": "b10c2975-cc2b-4b2c-a56a-2b912babda92",
   "metadata": {
    "id": "b10c2975-cc2b-4b2c-a56a-2b912babda92"
   },
   "source": [
    "**The top 10 states in terms of the total (i.e., sum) amount of contributions**"
   ]
  },
  {
   "cell_type": "code",
   "execution_count": 42,
   "id": "3fe2bad3-a4f9-49d8-a99e-fbd7f3910bfd",
   "metadata": {
    "id": "3fe2bad3-a4f9-49d8-a99e-fbd7f3910bfd"
   },
   "outputs": [
    {
     "name": "stderr",
     "output_type": "stream",
     "text": [
      "                                                                                \r"
     ]
    }
   ],
   "source": [
    "# 2. Top 10 States by Total Amount of Contributions\n",
    "top10_states_amount = (\n",
    "    rdd\n",
    "    .map(lambda row: (row.STATE, safe_float(row.TRANSACTION_AMT)))  # Map STATE as key and use TRANSACTION_AMT as value\n",
    "    .reduceByKey(add)  # Sum amounts per state\n",
    "    .takeOrdered(10, key=lambda pair: -pair[1])  # Take top 10 states by total amount\n",
    ")"
   ]
  },
  {
   "cell_type": "code",
   "execution_count": 43,
   "id": "44ebf116-e0f9-42cc-a397-b51564ec7cff",
   "metadata": {
    "id": "44ebf116-e0f9-42cc-a397-b51564ec7cff"
   },
   "outputs": [
    {
     "name": "stdout",
     "output_type": "stream",
     "text": [
      "\n",
      "Top 10 States by Total Amount of Contributions:\n",
      "CA: $150,899,253.00\n",
      "NY: $94,487,440.00\n",
      "DC: $85,847,491.00\n",
      "FL: $72,203,347.00\n",
      "TX: $65,958,686.00\n",
      "MA: $62,463,680.00\n",
      "WY: $58,379,042.00\n",
      "VA: $50,602,434.00\n",
      "IL: $31,544,698.00\n",
      "PA: $27,377,532.00\n"
     ]
    }
   ],
   "source": [
    "# Print results\n",
    "print(\"\\nTop 10 States by Total Amount of Contributions:\")\n",
    "for state, total_amount in top10_states_amount:\n",
    "    print(f\"{state}: ${total_amount:,.2f}\")"
   ]
  },
  {
   "cell_type": "markdown",
   "id": "d7ace617-5718-4195-ad15-0ef4a607a36d",
   "metadata": {
    "id": "0wqUwK_Ym_UW"
   },
   "source": [
    "**Interpretation**   \n",
    "California (CA) again leads with a total contribution amount of $150,899,253, which indicates that not only does it have the highest number of contributions but also the highest financial impact.\n",
    "    \n",
    "New York (NY) comes in second with nearly $94 million, suggesting that while it may not have as many individual contributions as California, those contributions tend to be larger on average.\n",
    "    \n",
    "The presence of Washington D.C. (DC) in this list highlights its role as a significant hub for political donations despite being a smaller area geographically and demographically.\n",
    "    \n",
    "States like Florida (FL) and Texas (TX) also show substantial total amounts contributed but rank lower than their contribution counts might suggest due to potentially smaller average contribution sizes."
   ]
  },
  {
   "cell_type": "markdown",
   "id": "39f1e2f7-6554-414d-bc12-3d19fdbe24a3",
   "metadata": {
    "id": "39f1e2f7-6554-414d-bc12-3d19fdbe24a3"
   },
   "source": [
    "## Data Analysis Part 2: Data Frame API"
   ]
  },
  {
   "cell_type": "code",
   "execution_count": 77,
   "id": "2e97f2d2-7d6e-43e9-b8de-e2f2d92dc030",
   "metadata": {},
   "outputs": [
    {
     "name": "stdout",
     "output_type": "stream",
     "text": [
      "  1: CMTE_ID\n",
      "  2: AMNDT_IND\n",
      "  3: RPT_TP\n",
      "  4: TRANSACTION_PGI\n",
      "  5: IMAGE_NUM\n",
      "  6: TRANSACTION_TP\n",
      "  7: ENTITY_TP\n",
      "  8: NAME\n",
      "  9: CITY\n",
      " 10: STATE\n",
      " 11: ZIP_CODE\n",
      " 12: EMPLOYER\n",
      " 13: OCCUPATION\n",
      " 14: TRANSACTION_DT\n",
      " 15: TRANSACTION_AMT\n",
      " 16: OTHER_ID\n",
      " 17: TRAN_ID\n",
      " 18: FILE_NUM\n",
      " 19: MEMO_CD\n",
      " 20: MEMO_TEXT\n",
      " 21: SUB_ID\n"
     ]
    }
   ],
   "source": [
    "!head combined_data.csv | csvcut -n"
   ]
  },
  {
   "cell_type": "code",
   "execution_count": 78,
   "id": "de7aad05-4dc0-4f56-a40e-9fc918a4d39c",
   "metadata": {},
   "outputs": [
    {
     "name": "stdout",
     "output_type": "stream",
     "text": [
      "| CMTE_ID   | AMNDT_IND | RPT_TP | TRANSACTION_PGI |               IMAGE_NUM | TRANSACTION_TP | ENTITY_TP | NAME                   | CITY       | STATE | ZIP_CODE | EMPLOYER       | OCCUPATION | TRANSACTION_DT | TRANSACTION_AMT | OTHER_ID | TRAN_ID         |  FILE_NUM | MEMO_CD | MEMO_TEXT |                    SUB_ID |\n",
      "| --------- | --------- | ------ | --------------- | ----------------------- | -------------- | --------- | ---------------------- | ---------- | ----- | -------- | -------------- | ---------- | -------------- | --------------- | -------- | --------------- | --------- | ------- | --------- | ------------------------- |\n",
      "| C00849273 | T         | TER    | P2024           | 202,407,159,660,924,932 | 22Y            | IND       | REPASS, JAMES          | HILLSBORO  | VA    |   20,132 |                |            |      6,202,024 |             400 |          | SB28A.5248      | 1,802,122 |         |           | 4,071,620,241,974,571,456 |\n",
      "| C00828541 | A         | M7     | P2024           | 202,408,159,666,207,641 | 15             | IND       | MANSFIELD, RISA        | COLUMBUS   | MS    |   39,705 | RETIRED        | RETIRED    |      6,202,024 |             125 |          | SA17A.121694463 | 1,810,271 |         |           | 4,081,620,242,013,476,924 |\n",
      "| C00828541 | A         | M7     | P2024           | 202,408,159,666,207,641 | 15             | IND       | MANTZOURANIS, VASILIKE | KENSINGTON | MD    |   20,895 | RETIRED        | RETIRED    |      6,202,024 |             150 |          | SA17A.121693527 | 1,810,271 |         |           | 4,081,620,242,013,476,925 |\n",
      "| C00828541 | A         | M7     | P2024           | 202,408,159,666,209,186 | 15             | IND       | SCOTT, HORACE EDWARD   | HANCEVILLE | AL    |   35,077 | HORACE F SEPTT | RETAIR     |      6,202,024 |             100 |          | SA17A.121694767 | 1,810,271 |         |           | 4,081,620,242,013,481,558 |\n"
     ]
    }
   ],
   "source": [
    "!head -5 combined_data.csv | csvlook"
   ]
  },
  {
   "cell_type": "code",
   "execution_count": 69,
   "id": "7caa9d5b-7adf-441e-810c-e3aa6bcc7625",
   "metadata": {
    "id": "7caa9d5b-7adf-441e-810c-e3aa6bcc7625"
   },
   "outputs": [],
   "source": [
    "from pyspark.sql import SparkSession\n",
    "from pyspark.sql.types import StructType, StructField, StringType, DateType, DecimalType\n",
    "from pyspark.sql.functions import to_date, col\n",
    "\n",
    "# Define the corrected schema to match the website specifications\n",
    "schema = StructType([\n",
    "    StructField(\"CMTE_ID\", StringType(), False),        # Non-nullable Filer identification number\n",
    "    StructField(\"AMNDT_IND\", StringType(), True),       # Amendment indicator\n",
    "    StructField(\"RPT_TP\", StringType(), True),          # Report type\n",
    "    StructField(\"TRANSACTION_PGI\", StringType(), True), # Primary-general indicator\n",
    "    StructField(\"IMAGE_NUM\", StringType(), True),       # Image number\n",
    "    StructField(\"TRANSACTION_TP\", StringType(), True),  # Transaction type\n",
    "    StructField(\"ENTITY_TP\", StringType(), True),       # Entity type\n",
    "    StructField(\"NAME\", StringType(), True),            # Contributor/Lender/Transfer Name\n",
    "    StructField(\"CITY\", StringType(), True),            # City\n",
    "    StructField(\"STATE\", StringType(), True),           # State\n",
    "    StructField(\"ZIP_CODE\", StringType(), True),        # ZIP code\n",
    "    StructField(\"EMPLOYER\", StringType(), True),        # Employer\n",
    "    StructField(\"OCCUPATION\", StringType(), True),      # Occupation\n",
    "    StructField(\"TRANSACTION_DT\", StringType(), True),    # Transaction date (MMDDYYYY)\n",
    "    StructField(\"TRANSACTION_AMT\", DecimalType(14, 2), True), # Transaction amount\n",
    "    StructField(\"OTHER_ID\", StringType(), True),        # Other identification number\n",
    "    StructField(\"TRAN_ID\", StringType(), True),         # Transaction ID\n",
    "    StructField(\"FILE_NUM\", LongType(), True),          # File number / Report ID\n",
    "    StructField(\"MEMO_CD\", StringType(), True),         # Memo code\n",
    "    StructField(\"MEMO_TEXT\", StringType(), True),       # Memo text\n",
    "    StructField(\"SUB_ID\", LongType(), False)            # Non-nullable FEC record number\n",
    "])"
   ]
  },
  {
   "cell_type": "code",
   "execution_count": 83,
   "id": "b4d86829-b3f6-46da-ba91-655cac8b9b01",
   "metadata": {
    "id": "b4d86829-b3f6-46da-ba91-655cac8b9b01"
   },
   "outputs": [
    {
     "name": "stdout",
     "output_type": "stream",
     "text": [
      "root\n",
      " |-- CMTE_ID: string (nullable = true)\n",
      " |-- AMNDT_IND: string (nullable = true)\n",
      " |-- RPT_TP: string (nullable = true)\n",
      " |-- TRANSACTION_PGI: string (nullable = true)\n",
      " |-- IMAGE_NUM: string (nullable = true)\n",
      " |-- TRANSACTION_TP: string (nullable = true)\n",
      " |-- ENTITY_TP: string (nullable = true)\n",
      " |-- NAME: string (nullable = true)\n",
      " |-- CITY: string (nullable = true)\n",
      " |-- STATE: string (nullable = true)\n",
      " |-- ZIP_CODE: string (nullable = true)\n",
      " |-- EMPLOYER: string (nullable = true)\n",
      " |-- OCCUPATION: string (nullable = true)\n",
      " |-- TRANSACTION_DT: date (nullable = true)\n",
      " |-- TRANSACTION_AMT: decimal(14,2) (nullable = true)\n",
      " |-- OTHER_ID: string (nullable = true)\n",
      " |-- TRAN_ID: string (nullable = true)\n",
      " |-- FILE_NUM: long (nullable = true)\n",
      " |-- MEMO_CD: string (nullable = true)\n",
      " |-- MEMO_TEXT: string (nullable = true)\n",
      " |-- SUB_ID: long (nullable = true)\n",
      "\n"
     ]
    }
   ],
   "source": [
    "# Apply schema to the RDD and recreate the DataFrame\n",
    "contributions = spark.read.csv(\"combined_data.csv\", header=True, schema=schema)\n",
    "\n",
    "# Convert TRANSACTION_DT to DateType\n",
    "contributions = contributions.withColumn(\n",
    "    \"TRANSACTION_DT\",\n",
    "    to_date(col(\"TRANSACTION_DT\"), \"MMddyyyy\")\n",
    ")\n",
    "\n",
    "# Convert TRANSACTION_AMT to DecimalType\n",
    "contributions = contributions.withColumn(\n",
    "    \"TRANSACTION_AMT\",\n",
    "    col(\"TRANSACTION_AMT\").cast(DecimalType(14, 2))\n",
    ")\n",
    "\n",
    "# Check the new schema\n",
    "contributions.printSchema()"
   ]
  },
  {
   "cell_type": "markdown",
   "id": "54806b1b-ce46-4931-ba3d-85b186043c32",
   "metadata": {
    "id": "54806b1b-ce46-4931-ba3d-85b186043c32"
   },
   "source": [
    "### Data Analysis"
   ]
  },
  {
   "cell_type": "markdown",
   "id": "dae870f5-aebf-4a39-8e53-466ac90868de",
   "metadata": {
    "id": "dae870f5-aebf-4a39-8e53-466ac90868de"
   },
   "source": [
    "**The contributor’s name, the committee ID the contributor contributed to, and\n",
    "the transaction amount for all contributions above $5000**"
   ]
  },
  {
   "cell_type": "code",
   "execution_count": 84,
   "id": "ffaebe9b-1a87-421d-a894-7697ac72ff91",
   "metadata": {
    "id": "ffaebe9b-1a87-421d-a894-7697ac72ff91"
   },
   "outputs": [
    {
     "name": "stderr",
     "output_type": "stream",
     "text": [
      "[Stage 37:================================================>         (5 + 1) / 6]\r"
     ]
    },
    {
     "name": "stdout",
     "output_type": "stream",
     "text": [
      "+--------------------+---------+---------------+\n",
      "|                NAME|  CMTE_ID|TRANSACTION_AMT|\n",
      "+--------------------+---------+---------------+\n",
      "|     MELLON, TIMOTHY|C00825851|    50000000.00|\n",
      "|          ONE NATION|C00571703|    18400000.00|\n",
      "|SECURING AMERICAN...|C00881805|    15000000.00|\n",
      "|FUTURE FORWARD US...|C00669259|    15000000.00|\n",
      "|CLEMENT, CHRISTIN...|C00857128|    12000000.00|\n",
      "|BLOOMBERG, MICHAE...|C00495028|    10000000.00|\n",
      "|     SINGER, PAUL E.|C00504530|    10000000.00|\n",
      "|SINGER, PAUL ELLIOTT|C00571703|    10000000.00|\n",
      "|BRICK BY BRICK FO...|C00631549|     5000000.00|\n",
      "|AMERICAN ACTION N...|C00504530|     5000000.00|\n",
      "+--------------------+---------+---------------+\n",
      "only showing top 10 rows\n",
      "\n"
     ]
    },
    {
     "name": "stderr",
     "output_type": "stream",
     "text": [
      "                                                                                \r"
     ]
    }
   ],
   "source": [
    "# Contributions above $5000\n",
    "contributions.filter('TRANSACTION_AMT > 5000') \\\n",
    "    .select('NAME', 'CMTE_ID', 'TRANSACTION_AMT') \\\n",
    "    .orderBy('TRANSACTION_AMT', ascending=False) \\\n",
    "    .show(10)"
   ]
  },
  {
   "cell_type": "markdown",
   "id": "3fb5960d-1806-4d34-9ab6-20c5a77af828",
   "metadata": {
    "id": "3fb5960d-1806-4d34-9ab6-20c5a77af828"
   },
   "source": [
    "**The name of the individual and their total contributions. Order the records by\n",
    "the total transaction amount in descending order. Only show the top 10 rows**"
   ]
  },
  {
   "cell_type": "markdown",
   "id": "d2f48ed2-15dd-473c-9a6d-c6692654ebb4",
   "metadata": {
    "id": "d2f48ed2-15dd-473c-9a6d-c6692654ebb4"
   },
   "source": [
    "**Interpretation**\n",
    "\n",
    "The highest contribution is from Timothy Mellon, amounting to $50 million.\n",
    "Significant contributions are also made by organizations like ONE NATION and SECURING AMERICAN DEMOCRACY, indicating strong financial backing for their activities.\n",
    "The presence of both individual contributors and organizations suggests a mix of funding sources."
   ]
  },
  {
   "cell_type": "code",
   "execution_count": 85,
   "id": "c28d7b4e-2f94-4e5a-b7c2-faec7ab564f5",
   "metadata": {
    "id": "c28d7b4e-2f94-4e5a-b7c2-faec7ab564f5"
   },
   "outputs": [
    {
     "name": "stderr",
     "output_type": "stream",
     "text": [
      "[Stage 40:>                                                         (0 + 2) / 2]\r"
     ]
    },
    {
     "name": "stdout",
     "output_type": "stream",
     "text": [
      "+--------------------+-------------------+\n",
      "|                NAME|TOTAL_CONTRIBUTIONS|\n",
      "+--------------------+-------------------+\n",
      "|     MELLON, TIMOTHY|        55003300.00|\n",
      "|          ONE NATION|        18400000.00|\n",
      "|FUTURE FORWARD US...|        15190058.00|\n",
      "|SECURING AMERICAN...|        15000000.00|\n",
      "|          MUSK, ELON|        14950000.00|\n",
      "|CLEMENT, CHRISTIN...|        12000564.00|\n",
      "|     SINGER, PAUL E.|        10150000.00|\n",
      "|BLOOMBERG, MICHAE...|        10014900.00|\n",
      "|SINGER, PAUL ELLIOTT|        10000000.00|\n",
      "|AMERICAN ACTION N...|         7500000.00|\n",
      "+--------------------+-------------------+\n",
      "only showing top 10 rows\n",
      "\n"
     ]
    },
    {
     "name": "stderr",
     "output_type": "stream",
     "text": [
      "                                                                                \r"
     ]
    }
   ],
   "source": [
    "# Total contributions per individual\n",
    "contributions.groupBy(\"NAME\") \\\n",
    "    .agg({\"TRANSACTION_AMT\": \"sum\"}) \\\n",
    "    .withColumnRenamed(\"sum(TRANSACTION_AMT)\", \"TOTAL_CONTRIBUTIONS\") \\\n",
    "    .select(\"NAME\", \"TOTAL_CONTRIBUTIONS\") \\\n",
    "    .orderBy('TOTAL_CONTRIBUTIONS', ascending=False) \\\n",
    "    .show(10)"
   ]
  },
  {
   "cell_type": "markdown",
   "id": "52fdb8a8-09d3-4ad7-a140-6fe7a67a2f5b",
   "metadata": {
    "id": "52fdb8a8-09d3-4ad7-a140-6fe7a67a2f5b"
   },
   "source": [
    "**Interpretation**\n",
    "\n",
    "Again, Timothy Mellon leads with total contributions over $55 million, showing a significant commitment to funding.\n",
    "    \n",
    "It is worth noting  that Elon Musk also contributed nearly $15 million, indicating his support for certain causes.\n",
    "The data reflects a diverse range of contributors with varying levels of financial support."
   ]
  },
  {
   "cell_type": "markdown",
   "id": "9fb79bf2-f2af-4425-a6af-436705607c5a",
   "metadata": {
    "id": "9fb79bf2-f2af-4425-a6af-436705607c5a"
   },
   "source": [
    "## Data Analysis Part 3: SQL with Data Frame"
   ]
  },
  {
   "cell_type": "markdown",
   "id": "4e431b17-daa2-47f8-b150-eb872a4f84d2",
   "metadata": {
    "id": "4e431b17-daa2-47f8-b150-eb872a4f84d2"
   },
   "source": [
    "**Register the contributions DataFrame as a temporary view**"
   ]
  },
  {
   "cell_type": "code",
   "execution_count": 86,
   "id": "54a102cb-284a-421b-9b06-946751bebf4f",
   "metadata": {
    "id": "54a102cb-284a-421b-9b06-946751bebf4f"
   },
   "outputs": [],
   "source": [
    "contributions.createOrReplaceTempView(\"contributions\")"
   ]
  },
  {
   "cell_type": "markdown",
   "id": "0bf88af7-9397-4ed3-b0c2-b788ba5797ac",
   "metadata": {
    "id": "0bf88af7-9397-4ed3-b0c2-b788ba5797ac"
   },
   "source": [
    "**The individual contributor’s name, the contributor's occupation, and the\n",
    "transaction amount. Order the records by the transaction amount in\n",
    "descending order.**"
   ]
  },
  {
   "cell_type": "code",
   "execution_count": 87,
   "id": "031c24a5-8906-4155-88b2-4f21ed3a375d",
   "metadata": {
    "id": "031c24a5-8906-4155-88b2-4f21ed3a375d",
    "outputId": "d18e662c-5b5d-4267-8a5d-b7bd2bfc6394"
   },
   "outputs": [
    {
     "name": "stderr",
     "output_type": "stream",
     "text": [
      "[Stage 41:================================================>         (5 + 1) / 6]\r"
     ]
    },
    {
     "name": "stdout",
     "output_type": "stream",
     "text": [
      "+--------------------+--------------------+---------------+\n",
      "|                NAME|          OCCUPATION|TRANSACTION_AMT|\n",
      "+--------------------+--------------------+---------------+\n",
      "|     MELLON, TIMOTHY|         INVESTMENTS|    50000000.00|\n",
      "|CLEMENT, CHRISTIN...|       SELF EMPLOYED|    12000000.00|\n",
      "|SINGER, PAUL ELLIOTT|           PRESIDENT|    10000000.00|\n",
      "|BLOOMBERG, MICHAE...|             FOUNDER|    10000000.00|\n",
      "|     SINGER, PAUL E.|           PRESIDENT|    10000000.00|\n",
      "|     MELLON, TIMOTHY|         INVESTMENTS|     5000000.00|\n",
      "|          MUSK, ELON|                 CEO|     5000000.00|\n",
      "|   BIGELOW, ROBERT T|AEROSPACE & REAL ...|     5000000.00|\n",
      "|          MUSK, ELON|                 CEO|     5000000.00|\n",
      "|    MCMAHON, LINDA E|           EXECUTIVE|     5000000.00|\n",
      "+--------------------+--------------------+---------------+\n",
      "only showing top 10 rows\n",
      "\n"
     ]
    },
    {
     "name": "stderr",
     "output_type": "stream",
     "text": [
      "                                                                                \r"
     ]
    }
   ],
   "source": [
    "spark.sql( \"\"\"\n",
    "    SELECT NAME, OCCUPATION, TRANSACTION_AMT\n",
    "    FROM contributions\n",
    "    WHERE OCCUPATION IS NOT NULL  -- Ensures we only get contributors with an occupation\n",
    "    ORDER BY TRANSACTION_AMT DESC\n",
    "\"\"\").show(10)"
   ]
  },
  {
   "cell_type": "markdown",
   "id": "73c20390-ea5b-4029-97d4-1de51b4d32e0",
   "metadata": {
    "id": "73c20390-ea5b-4029-97d4-1de51b4d32e0"
   },
   "source": [
    "**Interpretation**\n",
    "  \n",
    "**Top Contributors** :  \n",
    "Timothy Mellon appears twice with significant contributions of $55 million, indicating he is a major contributor.\n",
    "Christina Clement and Paul E. Singer are also notable contributors.\n",
    "\n",
    "**Occupations** :  \n",
    "The occupations listed provide context about the contributors:\n",
    "Timothy Mellon is into Investments. Christina Clement is self employed. Paul E. Singer holds the title of \"President.\" Michael Bloomberg is identified as a \"Founder\".\n",
    "\n",
    "**Transaction Amounts** :  \n",
    "The transaction amounts vary significantly, with the highest being $50 million, showcasing a range of contributions from various individuals and entities.\n",
    "\n",
    "**Diversity of Contributions** :  \n",
    "The list includes individuals from different sectors (e.g., investments, aerospace), reflecting a diverse set of contributors."
   ]
  },
  {
   "cell_type": "code",
   "execution_count": 88,
   "id": "8d7b260e-94d8-4d88-bc76-e999bc358ea4",
   "metadata": {
    "id": "8d7b260e-94d8-4d88-bc76-e999bc358ea4",
    "outputId": "db47bad4-7d88-442b-d5ad-1a47a9f57dfb"
   },
   "outputs": [
    {
     "name": "stderr",
     "output_type": "stream",
     "text": [
      "[Stage 42:================================================>         (5 + 1) / 6]\r"
     ]
    },
    {
     "name": "stdout",
     "output_type": "stream",
     "text": [
      "+---------+-------------------+\n",
      "|  CMTE_ID|TOTAL_CONTRIBUTIONS|\n",
      "+---------+-------------------+\n",
      "|C00401224|       162589222.00|\n",
      "|C00744946|        73562149.00|\n",
      "|C00825851|        71965272.00|\n",
      "|C00703975|        56540707.00|\n",
      "|C00694323|        48689346.00|\n",
      "|C00873893|        39590159.00|\n",
      "|C00867937|        38814150.00|\n",
      "|C00571703|        34900100.00|\n",
      "|C00504530|        32856895.00|\n",
      "|C00669259|        28961863.00|\n",
      "+---------+-------------------+\n",
      "only showing top 10 rows\n",
      "\n"
     ]
    },
    {
     "name": "stderr",
     "output_type": "stream",
     "text": [
      "                                                                                \r"
     ]
    }
   ],
   "source": [
    "spark.sql( \"\"\"\n",
    "    SELECT CMTE_ID, SUM(TRANSACTION_AMT) AS TOTAL_CONTRIBUTIONS\n",
    "    FROM contributions\n",
    "    GROUP BY CMTE_ID\n",
    "    ORDER BY TOTAL_CONTRIBUTIONS DESC\n",
    "\"\"\").show(10)"
   ]
  },
  {
   "cell_type": "markdown",
   "id": "ee4dbb98-0c64-4648-878a-b61db313a9e8",
   "metadata": {
    "id": "ee4dbb98-0c64-4648-878a-b61db313a9e8"
   },
   "source": [
    "**Intepretation**\n",
    "\n",
    "  **Top Committees by Contributions** :  \n",
    "The committee with the highest total contributions is C00401224, with a substantial amount of $162 million. This indicates that this committee has received significant financial backing, suggesting it plays a major role in its respective political or social activities.\n",
    "\n",
    "**Significant Financial Support** :  \n",
    "Other notable committees include C00744946 and C00825851, with total contributions over $7million. These figures reflect strong financial support and suggest that these committees are also influential within their domains.\n",
    "\n",
    "**Diverse Funding Sources** :  \n",
    "The list continues with several other committees receiving contributions ranging from approximately 28 to 56 million dollars. This diversity in funding indicates a broad base of support for various initiatives, campaigns, or causes represented by these committees.\n",
    "\n",
    "**Overall Financial Landscape** :  \n",
    "The total contributions highlight the competitive nature of fundraising within political or advocacy contexts, showcasing how different committees vie for financial resources to further their objectives."
   ]
  },
  {
   "cell_type": "markdown",
   "id": "91b3d04b-4c88-4091-b7f0-98cdd1b42af4",
   "metadata": {
    "id": "91b3d04b-4c88-4091-b7f0-98cdd1b42af4"
   },
   "source": [
    "## Conclusion"
   ]
  },
  {
   "cell_type": "markdown",
   "id": "538efa54-4535-4553-bafc-f7581d18118f",
   "metadata": {
    "id": "538efa54-4535-4553-bafc-f7581d18118f"
   },
   "source": [
    "In this analysis, we explored the financial contributions made to various political committees, revealing significant patterns and insights regarding funding sources.\n",
    "Population Influence: States with larger populations tend to have both higher counts and higher total amounts of contributions.\n",
    "\n",
    "Political Engagement: High contribution counts may indicate robust political engagement and activism within those states.\n",
    "\n",
    "Financial Impact: The total contribution amounts provide insight into which states are financially supporting political campaigns or causes more heavily.\n",
    "\n",
    "Average Contribution Size: You can infer that states like New York may have fewer but larger contributions compared to states like California.\n",
    "\n",
    "The data highlighted that the top committee CMTE_ID C00401224, received a remarkable total of $162 million, indicating it is a major player in the political landscape.     \n",
    "\n",
    "Similarly, the second committee, C00744946, got approximately $73 million, showcasing substantial financial backing as well.\n",
    "\n",
    "The contributions reflect a trend where a few committees dominate fundraising efforts, suggesting that these organizations likely have strong networks and strategies for attracting large donations. This concentration of financial resources can significantly influence political campaigns and elections, as committees with greater funding are better positioned to amplify their messages, engage voters, and support candidates.\n",
    "    \n",
    "Overall, the findings underscore the critical role of financial contributions in shaping political dynamics and highlight the importance of transparency in campaign financing. Understanding these patterns is essential for stakeholders aiming to navigate the complex interplay between money and politics effectively."
   ]
  },
  {
   "cell_type": "code",
   "execution_count": 89,
   "id": "0747f02e-e505-46ea-b694-0742d57cf560",
   "metadata": {
    "id": "0747f02e-e505-46ea-b694-0742d57cf560"
   },
   "outputs": [],
   "source": [
    "# Stop the SparkContext when done\n",
    "spark.stop()"
   ]
  },
  {
   "cell_type": "code",
   "execution_count": null,
   "id": "1405cde0-a966-4d30-957b-9ebb03c86c08",
   "metadata": {
    "id": "1405cde0-a966-4d30-957b-9ebb03c86c08"
   },
   "outputs": [],
   "source": []
  }
 ],
 "metadata": {
  "colab": {
   "collapsed_sections": [
    "17ed2b5c-a73c-42ef-a3b4-15ce40e5d0c8",
    "39f1e2f7-6554-414d-bc12-3d19fdbe24a3",
    "9fb79bf2-f2af-4425-a6af-436705607c5a"
   ],
   "provenance": []
  },
  "kernelspec": {
   "display_name": "Python 3 (ipykernel)",
   "language": "python",
   "name": "python3"
  },
  "language_info": {
   "codemirror_mode": {
    "name": "ipython",
    "version": 3
   },
   "file_extension": ".py",
   "mimetype": "text/x-python",
   "name": "python",
   "nbconvert_exporter": "python",
   "pygments_lexer": "ipython3",
   "version": "3.12.3"
  }
 },
 "nbformat": 4,
 "nbformat_minor": 5
}
